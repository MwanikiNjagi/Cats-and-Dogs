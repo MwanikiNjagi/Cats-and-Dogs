{
 "cells": [
  {
   "cell_type": "code",
   "execution_count": 1,
   "metadata": {},
   "outputs": [],
   "source": [
    "from numpy import load, save\n",
    "\n",
    "\n",
    "X = load(\"X.npy\", mmap_mode='r')\n"
   ]
  },
  {
   "cell_type": "code",
   "execution_count": 2,
   "metadata": {},
   "outputs": [],
   "source": [
    "X_train_1 = X[:12500]\n",
    "\n"
   ]
  },
  {
   "cell_type": "code",
   "execution_count": 3,
   "metadata": {},
   "outputs": [],
   "source": [
    "X_train_1 = X_train_1/255"
   ]
  },
  {
   "cell_type": "code",
   "execution_count": 4,
   "metadata": {},
   "outputs": [],
   "source": [
    "save(\"X_train_1.npy\", X_train_1)"
   ]
  },
  {
   "cell_type": "code",
   "execution_count": 5,
   "metadata": {},
   "outputs": [],
   "source": [
    "from numpy import load\n",
    "\n",
    "X_train = load(\"X_train_1.npy\", mmap_mode = 'r+')"
   ]
  },
  {
   "cell_type": "code",
   "execution_count": 6,
   "metadata": {},
   "outputs": [
    {
     "name": "stdout",
     "output_type": "stream",
     "text": [
      "[[[0.12941176 0.21960784 0.09411765]\n",
      "  [0.23529412 0.32156863 0.19607843]\n",
      "  [0.49019608 0.57647059 0.44313725]\n",
      "  ...\n",
      "  [0.2627451  0.34117647 0.22745098]\n",
      "  [0.36470588 0.44705882 0.3254902 ]\n",
      "  [0.30196078 0.38823529 0.25882353]]\n",
      "\n",
      " [[0.21960784 0.29411765 0.16470588]\n",
      "  [0.22352941 0.30196078 0.17254902]\n",
      "  [0.44705882 0.52156863 0.39215686]\n",
      "  ...\n",
      "  [0.27843137 0.35294118 0.24705882]\n",
      "  [0.34901961 0.42745098 0.30980392]\n",
      "  [0.41568627 0.49803922 0.37254902]]\n",
      "\n",
      " [[0.32941176 0.39607843 0.26666667]\n",
      "  [0.51372549 0.58039216 0.44705882]\n",
      "  [0.44313725 0.50588235 0.37254902]\n",
      "  ...\n",
      "  [0.31372549 0.38431373 0.29019608]\n",
      "  [0.27058824 0.34509804 0.24313725]\n",
      "  [0.3254902  0.4        0.29019608]]\n",
      "\n",
      " ...\n",
      "\n",
      " [[0.40784314 0.45882353 0.3254902 ]\n",
      "  [0.41568627 0.4627451  0.3372549 ]\n",
      "  [0.44705882 0.49019608 0.37647059]\n",
      "  ...\n",
      "  [0.56470588 0.59607843 0.60784314]\n",
      "  [0.60392157 0.63921569 0.64705882]\n",
      "  [0.64705882 0.68627451 0.69803922]]\n",
      "\n",
      " [[0.32156863 0.40784314 0.28235294]\n",
      "  [0.24705882 0.3254902  0.21176471]\n",
      "  [0.39607843 0.45490196 0.37254902]\n",
      "  ...\n",
      "  [0.54901961 0.59607843 0.62745098]\n",
      "  [0.56078431 0.60392157 0.63921569]\n",
      "  [0.58039216 0.61960784 0.65490196]]\n",
      "\n",
      " [[0.34117647 0.43529412 0.30980392]\n",
      "  [0.25882353 0.34901961 0.23529412]\n",
      "  [0.50588235 0.57254902 0.49019608]\n",
      "  ...\n",
      "  [0.50588235 0.56078431 0.59607843]\n",
      "  [0.47058824 0.51764706 0.55686275]\n",
      "  [0.49803922 0.5372549  0.57254902]]]\n"
     ]
    }
   ],
   "source": [
    "print(X_train[12499])"
   ]
  },
  {
   "cell_type": "code",
   "execution_count": 2,
   "metadata": {},
   "outputs": [],
   "source": [
    "X_train_2 = X[12501:-1]\n"
   ]
  },
  {
   "cell_type": "code",
   "execution_count": 3,
   "metadata": {},
   "outputs": [],
   "source": [
    "X_train_2 = X_train_2/255"
   ]
  },
  {
   "cell_type": "code",
   "execution_count": null,
   "metadata": {},
   "outputs": [],
   "source": [
    "save(\"X_train_2.npy\", X_train_2)"
   ]
  }
 ],
 "metadata": {
  "kernelspec": {
   "display_name": "Python 3",
   "language": "python",
   "name": "python3"
  },
  "language_info": {
   "codemirror_mode": {
    "name": "ipython",
    "version": 3
   },
   "file_extension": ".py",
   "mimetype": "text/x-python",
   "name": "python",
   "nbconvert_exporter": "python",
   "pygments_lexer": "ipython3",
   "version": "3.10.6"
  },
  "orig_nbformat": 4
 },
 "nbformat": 4,
 "nbformat_minor": 2
}
