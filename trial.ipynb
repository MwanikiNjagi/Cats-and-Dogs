{
 "cells": [
  {
   "cell_type": "code",
   "execution_count": 1,
   "metadata": {},
   "outputs": [],
   "source": [
    "import cv2\n",
    "import os\n",
    "import matplotlib.pyplot as plt\n",
    "import numpy as np\n",
    "\n",
    "training_folder = r\"/home/mwaniki-new/Documents/deep_learning/Cats_Dogs/src/train\" \n",
    "img_size = 120\n",
    "img_arr = []\n",
    "training_data= []"
   ]
  },
  {
   "cell_type": "code",
   "execution_count": null,
   "metadata": {},
   "outputs": [],
   "source": [
    "def training_array(folders):\n",
    "    for img in os.listdir(folders):\n",
    "        #Taking path of images\n",
    "        img_path = os.path.join(folders, img)\n",
    "        try:\n",
    "            img_arr = cv2.imread(img_path)\n",
    "            img_arr = cv2.resize(img_arr, (img_size, img_size))\n",
    "        except Exception as e:\n",
    "            print(str(e))\n",
    "        #storing our images in an array and resizing appropriate images\n",
    "            \n",
    "        #extracting image name\n",
    "        img_label = os.path.basename(os.path.normpath(img_path))\n",
    "        #splitting name of file and picking either \"cat\" or \"dog\"\n",
    "        img_label = img_label.split(\".\")[0] \n",
    "\n",
    "        #indexing the labels\n",
    "        if img_label == 'cat':\n",
    "            img_label = 0        \n",
    "        else:\n",
    "            img_label = 1\n",
    "        training_data.append([img_arr, img_label])\n",
    "        #appending data to empty dataframe\n",
    "        #training_data.append([img_arr, img_label])\n",
    "    return training_data"
   ]
  },
  {
   "cell_type": "code",
   "execution_count": null,
   "metadata": {},
   "outputs": [],
   "source": [
    "train_array = training_array(training_folder)"
   ]
  },
  {
   "cell_type": "code",
   "execution_count": null,
   "metadata": {},
   "outputs": [],
   "source": [
    "from random import shuffle\n",
    "shuffle(train_array)"
   ]
  },
  {
   "cell_type": "code",
   "execution_count": null,
   "metadata": {},
   "outputs": [],
   "source": [
    "X = []\n",
    "y = []\n",
    "\n",
    "for features, labels in train_array:\n",
    "    X.append(features)\n",
    "    y.append(labels)"
   ]
  },
  {
   "cell_type": "code",
   "execution_count": null,
   "metadata": {},
   "outputs": [],
   "source": [
    "X=np.array(X)\n",
    "y=np.array(y)"
   ]
  },
  {
   "cell_type": "code",
   "execution_count": null,
   "metadata": {},
   "outputs": [],
   "source": [
    "\n",
    "from numpy import save\n",
    "save('X.npy', X)\n",
    "save('y.npy', y)"
   ]
  }
 ],
 "metadata": {
  "kernelspec": {
   "display_name": "Python 3",
   "language": "python",
   "name": "python3"
  },
  "language_info": {
   "codemirror_mode": {
    "name": "ipython",
    "version": 3
   },
   "file_extension": ".py",
   "mimetype": "text/x-python",
   "name": "python",
   "nbconvert_exporter": "python",
   "pygments_lexer": "ipython3",
   "version": "3.10.6"
  },
  "orig_nbformat": 4
 },
 "nbformat": 4,
 "nbformat_minor": 2
}
