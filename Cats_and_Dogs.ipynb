{
 "cells": [
  {
   "cell_type": "code",
   "execution_count": 1,
   "metadata": {},
   "outputs": [],
   "source": [
    "import cv2\n",
    "import os\n",
    "import matplotlib.pyplot as plt\n",
    "import pickle \n",
    "import numpy as np\n",
    "\n",
    "\n",
    "cat_dir = r'/home/mwaniki-new/Documents/deep_learning/Cats_Dogs/src/cats'\n",
    "dog_dir =  r'/home/mwaniki-new/Documents/deep_learning/Cats_Dogs/src/dogs'\n",
    "test_dir = r'/home/mwaniki-new/Documents/deep_learning/Cats_Dogs/src/test'\n",
    "img_size = 120\n",
    "training_data= []\n",
    "cat_training_data = []\n",
    "dog_training_data = []\n",
    "testing_data = []\n"
   ]
  },
  {
   "cell_type": "code",
   "execution_count": 2,
   "metadata": {},
   "outputs": [],
   "source": [
    "def cat_training_array(folders):\n",
    "    for img in os.listdir(folders):\n",
    "        #Taking path of images\n",
    "        img_path = os.path.join(folders, img)\n",
    "        try:\n",
    "            img_arr = cv2.imread(img_path)\n",
    "            img_arr = cv2.resize(img_arr, (img_size, img_size))\n",
    "        except Exception as e:\n",
    "            print(str(e))\n",
    "        #storing our images in an array and resizing appropriate images\n",
    "            \n",
    "        #extracting image name\n",
    "        img_label = os.path.basename(os.path.normpath(img_path))\n",
    "        #splitting name of file and picking either \"cat\" or \"dog\"\n",
    "        img_label = img_label.split(\".\")[0] \n",
    "\n",
    "        #indexing the labels\n",
    "        if img_label == 'cat':\n",
    "            img_label = 0\n",
    "        else:\n",
    "            img_label = 1\n",
    "            \n",
    "        cat_training_data.append([img_arr, img_label])\n",
    "        #appending data to empty dataframe\n",
    "        #training_data.append([img_arr, img_label])\n",
    "    return cat_training_data"
   ]
  },
  {
   "cell_type": "code",
   "execution_count": 3,
   "metadata": {},
   "outputs": [],
   "source": [
    "def dog_training_array(folders):\n",
    "    for img in os.listdir(folders):\n",
    "        #Taking path of images\n",
    "        img_path = os.path.join(folders, img)\n",
    "        try:\n",
    "            img_arr = cv2.imread(img_path)\n",
    "            img_arr = cv2.resize(img_arr, (img_size, img_size))\n",
    "        except Exception as e:\n",
    "            print(str(e))\n",
    "        #storing our images in an array and resizing appropriate images\n",
    "            \n",
    "        #extracting image name\n",
    "        img_label = os.path.basename(os.path.normpath(img_path))\n",
    "        #splitting name of file and picking either \"cat\" or \"dog\"\n",
    "        img_label = img_label.split(\".\")[0] \n",
    "\n",
    "        #indexing the labels\n",
    "        if img_label == 'cat':\n",
    "            img_label = 0\n",
    "        else:\n",
    "            img_label = 1\n",
    "            \n",
    "        dog_training_data.append([img_arr, img_label])\n",
    "        #appending data to empty dataframe\n",
    "        #training_data.append([img_arr, img_label])\n",
    "    return dog_training_data"
   ]
  },
  {
   "cell_type": "code",
   "execution_count": null,
   "metadata": {},
   "outputs": [],
   "source": [
    "\n",
    "def testing_array(folders):\n",
    "    for img in os.listdir(folders):\n",
    "           #Taking path of images\n",
    "        img_path = os.path.join(folders, img)\n",
    "        try:\n",
    "            img_arr = cv2.imread(img_path)\n",
    "            img_arr = cv2.resize(img_arr, (img_size, img_size))\n",
    "        except Exception as e:\n",
    "            print(str(e))\n",
    "        testing_data.append(img_arr)\n",
    "    return testing_data"
   ]
  },
  {
   "cell_type": "code",
   "execution_count": 4,
   "metadata": {},
   "outputs": [],
   "source": [
    "cat_training_array = cat_training_array(cat_dir)"
   ]
  },
  {
   "cell_type": "code",
   "execution_count": 8,
   "metadata": {},
   "outputs": [
    {
     "name": "stdout",
     "output_type": "stream",
     "text": [
      "[array([[[112, 154, 159],\n",
      "        [111, 159, 170],\n",
      "        [107, 157, 166],\n",
      "        ...,\n",
      "        [128, 164, 167],\n",
      "        [ 74, 105, 108],\n",
      "        [ 96, 120, 122]],\n",
      "\n",
      "       [[ 39,  72,  77],\n",
      "        [ 40,  77,  89],\n",
      "        [ 39,  77,  88],\n",
      "        ...,\n",
      "        [134, 170, 173],\n",
      "        [ 73, 104, 107],\n",
      "        [110, 132, 134]],\n",
      "\n",
      "       [[ 31,  56,  63],\n",
      "        [ 27,  56,  70],\n",
      "        [ 27,  54,  67],\n",
      "        ...,\n",
      "        [137, 170, 173],\n",
      "        [ 80, 106, 110],\n",
      "        [119, 141, 143]],\n",
      "\n",
      "       ...,\n",
      "\n",
      "       [[101, 100, 168],\n",
      "        [ 92,  91, 159],\n",
      "        [ 99,  98, 166],\n",
      "        ...,\n",
      "        [ 94,  86, 148],\n",
      "        [102,  94, 155],\n",
      "        [103,  96, 155]],\n",
      "\n",
      "       [[101, 100, 168],\n",
      "        [103, 102, 170],\n",
      "        [100,  99, 167],\n",
      "        ...,\n",
      "        [109, 101, 168],\n",
      "        [104,  96, 162],\n",
      "        [103,  96, 160]],\n",
      "\n",
      "       [[111, 110, 178],\n",
      "        [117, 116, 184],\n",
      "        [117, 116, 183],\n",
      "        ...,\n",
      "        [105,  98, 168],\n",
      "        [104,  98, 167],\n",
      "        [110, 105, 171]]], dtype=uint8), 0]\n"
     ]
    }
   ],
   "source": [
    "print(cat_training_array[100])"
   ]
  },
  {
   "cell_type": "code",
   "execution_count": 9,
   "metadata": {},
   "outputs": [],
   "source": [
    "dog_training_array = dog_training_array(dog_dir)"
   ]
  },
  {
   "cell_type": "code",
   "execution_count": 10,
   "metadata": {},
   "outputs": [
    {
     "name": "stdout",
     "output_type": "stream",
     "text": [
      "[array([[[ 68,  67, 135],\n",
      "        [ 77,  56,  65],\n",
      "        [174, 157, 168],\n",
      "        ...,\n",
      "        [ 19,  18,  20],\n",
      "        [ 19,  18,  20],\n",
      "        [ 14,  14,  14]],\n",
      "\n",
      "       [[ 68,  66, 145],\n",
      "        [175, 155, 165],\n",
      "        [203, 188, 191],\n",
      "        ...,\n",
      "        [ 12,  11,  13],\n",
      "        [ 12,  11,  13],\n",
      "        [ 13,  13,  13]],\n",
      "\n",
      "       [[ 78,  77, 170],\n",
      "        [ 69,  53,  65],\n",
      "        [204, 191, 191],\n",
      "        ...,\n",
      "        [  5,   4,   6],\n",
      "        [  6,   5,   7],\n",
      "        [  5,   5,   5]],\n",
      "\n",
      "       ...,\n",
      "\n",
      "       [[ 62,  75, 121],\n",
      "        [ 73,  78, 130],\n",
      "        [ 69,  66, 115],\n",
      "        ...,\n",
      "        [ 88, 104, 147],\n",
      "        [ 89, 104, 146],\n",
      "        [ 85, 104, 143]],\n",
      "\n",
      "       [[110, 125, 167],\n",
      "        [103, 119, 163],\n",
      "        [103, 121, 168],\n",
      "        ...,\n",
      "        [ 83, 102, 147],\n",
      "        [ 77,  96, 140],\n",
      "        [ 78,  95, 140]],\n",
      "\n",
      "       [[147, 157, 194],\n",
      "        [140, 153, 191],\n",
      "        [132, 146, 188],\n",
      "        ...,\n",
      "        [ 83, 102, 147],\n",
      "        [ 80,  99, 144],\n",
      "        [ 77,  92, 139]]], dtype=uint8), 1]\n"
     ]
    }
   ],
   "source": [
    "print(dog_training_array[20])"
   ]
  },
  {
   "cell_type": "code",
   "execution_count": 16,
   "metadata": {},
   "outputs": [],
   "source": [
    "from random import shuffle\n",
    "#concatenate the array\n",
    "training_array = cat_training_array + dog_training_array\n",
    "#shuffle the array\n",
    "shuffle(training_array)"
   ]
  },
  {
   "cell_type": "code",
   "execution_count": 18,
   "metadata": {},
   "outputs": [],
   "source": [
    "#Splitting into X and y\n",
    "\n",
    "X = []\n",
    "y = []\n",
    "\n",
    "for features, labels in training_array:\n",
    "    X.append(features)\n",
    "    y.append(labels)"
   ]
  },
  {
   "cell_type": "code",
   "execution_count": 21,
   "metadata": {},
   "outputs": [],
   "source": [
    "X=np.array(X)\n",
    "y=np.array(y)"
   ]
  },
  {
   "cell_type": "code",
   "execution_count": 22,
   "metadata": {},
   "outputs": [],
   "source": [
    "\n",
    "from numpy import save\n",
    "save('X.npy', X)\n",
    "save('y.npy', y)"
   ]
  }
 ],
 "metadata": {
  "kernelspec": {
   "display_name": "Python 3",
   "language": "python",
   "name": "python3"
  },
  "language_info": {
   "codemirror_mode": {
    "name": "ipython",
    "version": 3
   },
   "file_extension": ".py",
   "mimetype": "text/x-python",
   "name": "python",
   "nbconvert_exporter": "python",
   "pygments_lexer": "ipython3",
   "version": "3.10.6"
  },
  "orig_nbformat": 4
 },
 "nbformat": 4,
 "nbformat_minor": 2
}
