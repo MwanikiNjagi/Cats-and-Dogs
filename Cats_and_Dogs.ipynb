{
 "cells": [
  {
   "cell_type": "code",
   "execution_count": 1,
   "id": "8ff54f20",
   "metadata": {
    "execution": {
     "iopub.execute_input": "2023-03-05T11:49:20.342233Z",
     "iopub.status.busy": "2023-03-05T11:49:20.341679Z",
     "iopub.status.idle": "2023-03-05T11:49:20.524958Z",
     "shell.execute_reply": "2023-03-05T11:49:20.523989Z"
    },
    "papermill": {
     "duration": 0.192535,
     "end_time": "2023-03-05T11:49:20.527531",
     "exception": false,
     "start_time": "2023-03-05T11:49:20.334996",
     "status": "completed"
    },
    "tags": []
   },
   "outputs": [
    {
     "name": "stdout",
     "output_type": "stream",
     "text": [
      "['/kaggle/input/cat-and-dog/training_set/training_set/cats', '/kaggle/input/cat-and-dog/training_set/training_set/dogs']\n",
      "['/kaggle/input/cat-and-dog/test_set/test_set/cats', '/kaggle/input/cat-and-dog/test_set/test_set/dogs']\n"
     ]
    }
   ],
   "source": [
    "import cv2\n",
    "import os\n",
    "import matplotlib.pyplot as plt\n",
    "import pickle \n",
    "import numpy as np\n",
    "\n",
    "train_dir = r'/kaggle/input/cat-and-dog/training_set/training_set/'\n",
    "test_dir = r'/kaggle/input/cat-and-dog/test_set/test_set/'\n",
    "cate_cat = 'cats'\n",
    "cate_dog = 'dogs'\n",
    "\n",
    "def paths(dir):\n",
    "    cat_dir = os.path.join(dir, cate_cat)\n",
    "    dog_dir = os.path.join(dir, cate_dog)\n",
    "    folders = [cat_dir, dog_dir]\n",
    "    return folders\n",
    "\n",
    "#Storing directory information\n",
    "training_folders = paths(train_dir)\n",
    "testing_folders = paths(test_dir)\n",
    "\n",
    "#testing said info\n",
    "print(training_folders)\n",
    "print(testing_folders)"
   ]
  },
  {
   "cell_type": "code",
   "execution_count": 2,
   "id": "65e709ae",
   "metadata": {
    "execution": {
     "iopub.execute_input": "2023-03-05T11:49:20.536511Z",
     "iopub.status.busy": "2023-03-05T11:49:20.536116Z",
     "iopub.status.idle": "2023-03-05T11:49:20.545474Z",
     "shell.execute_reply": "2023-03-05T11:49:20.544057Z"
    },
    "papermill": {
     "duration": 0.016704,
     "end_time": "2023-03-05T11:49:20.547984",
     "exception": false,
     "start_time": "2023-03-05T11:49:20.531280",
     "status": "completed"
    },
    "tags": []
   },
   "outputs": [],
   "source": [
    "#empty datalist to store image arrays and labels\n",
    "data = []\n",
    "#Desired image size\n",
    "img_size = 448\n",
    "\n",
    "def data_array(folders):\n",
    "    for folder in folders:\n",
    "        folder = folder\n",
    "        for img in os.listdir(folder):\n",
    "            #Taking path of images\n",
    "            img_path = os.path.join(folder, img)\n",
    "            try:\n",
    "                img_arr = cv2.imread(img_path)\n",
    "                img_arr = cv2.resize(img_arr, (img_size, img_size))\n",
    "            except Exception as e:\n",
    "                print(str(e))\n",
    "            #storing our images in an array and resizing appropriate images\n",
    "            \n",
    "            #extracting image name\n",
    "            img_label = os.path.basename(os.path.normpath(img_path))\n",
    "            #splitting name of file and picking either \"cat\" or \"dog\"\n",
    "            img_label = img_label.split(\".\")[0] \n",
    "            #indexing the labels\n",
    "            if img_label == 'cat':\n",
    "                img_label = 0\n",
    "            else:\n",
    "                img_label = 1\n",
    "            #appending data to empty dataframe\n",
    "            data.append([img_arr, img_label])\n",
    "    return data"
   ]
  },
  {
   "cell_type": "code",
   "execution_count": 3,
   "id": "8abc654f",
   "metadata": {
    "execution": {
     "iopub.execute_input": "2023-03-05T11:49:20.556716Z",
     "iopub.status.busy": "2023-03-05T11:49:20.556329Z",
     "iopub.status.idle": "2023-03-05T11:51:04.917029Z",
     "shell.execute_reply": "2023-03-05T11:51:04.915903Z"
    },
    "papermill": {
     "duration": 104.368281,
     "end_time": "2023-03-05T11:51:04.919738",
     "exception": false,
     "start_time": "2023-03-05T11:49:20.551457",
     "status": "completed"
    },
    "tags": []
   },
   "outputs": [
    {
     "name": "stdout",
     "output_type": "stream",
     "text": [
      "OpenCV(4.5.4) /tmp/pip-req-build-jpmv6t9_/opencv/modules/imgproc/src/resize.cpp:4051: error: (-215:Assertion failed) !ssize.empty() in function 'resize'\n",
      "\n",
      "OpenCV(4.5.4) /tmp/pip-req-build-jpmv6t9_/opencv/modules/imgproc/src/resize.cpp:4051: error: (-215:Assertion failed) !ssize.empty() in function 'resize'\n",
      "\n",
      "OpenCV(4.5.4) /tmp/pip-req-build-jpmv6t9_/opencv/modules/imgproc/src/resize.cpp:4051: error: (-215:Assertion failed) !ssize.empty() in function 'resize'\n",
      "\n",
      "OpenCV(4.5.4) /tmp/pip-req-build-jpmv6t9_/opencv/modules/imgproc/src/resize.cpp:4051: error: (-215:Assertion failed) !ssize.empty() in function 'resize'\n",
      "\n"
     ]
    }
   ],
   "source": [
    "training_list = data_array(training_folders)\n",
    "testing_list = data_array(testing_folders)"
   ]
  },
  {
   "cell_type": "code",
   "execution_count": 4,
   "id": "179aa749",
   "metadata": {
    "execution": {
     "iopub.execute_input": "2023-03-05T11:51:04.928846Z",
     "iopub.status.busy": "2023-03-05T11:51:04.928446Z",
     "iopub.status.idle": "2023-03-05T11:51:04.954762Z",
     "shell.execute_reply": "2023-03-05T11:51:04.953328Z"
    },
    "papermill": {
     "duration": 0.033805,
     "end_time": "2023-03-05T11:51:04.957463",
     "exception": false,
     "start_time": "2023-03-05T11:51:04.923658",
     "status": "completed"
    },
    "tags": []
   },
   "outputs": [],
   "source": [
    "import random\n",
    "#data shuffling\n",
    "random.shuffle(training_list)\n",
    "random.shuffle(testing_list)\n",
    "\n",
    "#list concataneting\n",
    "data = training_list + testing_list\n"
   ]
  },
  {
   "cell_type": "code",
   "execution_count": 5,
   "id": "3616ee07",
   "metadata": {
    "execution": {
     "iopub.execute_input": "2023-03-05T11:51:04.966428Z",
     "iopub.status.busy": "2023-03-05T11:51:04.966001Z",
     "iopub.status.idle": "2023-03-05T11:51:04.980049Z",
     "shell.execute_reply": "2023-03-05T11:51:04.979116Z"
    },
    "papermill": {
     "duration": 0.021479,
     "end_time": "2023-03-05T11:51:04.982695",
     "exception": false,
     "start_time": "2023-03-05T11:51:04.961216",
     "status": "completed"
    },
    "tags": []
   },
   "outputs": [],
   "source": [
    "#creating empty x and y for iteration\n",
    "X = []\n",
    "y = []\n",
    "\n",
    "for features, labels in data:\n",
    "    X.append(features)\n",
    "    y.append(labels)"
   ]
  },
  {
   "cell_type": "code",
   "execution_count": 6,
   "id": "0a9ac6ea",
   "metadata": {
    "execution": {
     "iopub.execute_input": "2023-03-05T11:51:04.991758Z",
     "iopub.status.busy": "2023-03-05T11:51:04.991094Z",
     "iopub.status.idle": "2023-03-05T11:51:04.998650Z",
     "shell.execute_reply": "2023-03-05T11:51:04.997507Z"
    },
    "papermill": {
     "duration": 0.014861,
     "end_time": "2023-03-05T11:51:05.001284",
     "exception": false,
     "start_time": "2023-03-05T11:51:04.986423",
     "status": "completed"
    },
    "tags": []
   },
   "outputs": [
    {
     "data": {
      "text/plain": [
       "20064"
      ]
     },
     "execution_count": 6,
     "metadata": {},
     "output_type": "execute_result"
    }
   ],
   "source": [
    "len(X)"
   ]
  },
  {
   "cell_type": "code",
   "execution_count": 7,
   "id": "1ff802e0",
   "metadata": {
    "execution": {
     "iopub.execute_input": "2023-03-05T11:51:05.010699Z",
     "iopub.status.busy": "2023-03-05T11:51:05.010311Z",
     "iopub.status.idle": "2023-03-05T11:51:05.024442Z",
     "shell.execute_reply": "2023-03-05T11:51:05.023152Z"
    },
    "papermill": {
     "duration": 0.021671,
     "end_time": "2023-03-05T11:51:05.026992",
     "exception": false,
     "start_time": "2023-03-05T11:51:05.005321",
     "status": "completed"
    },
    "tags": []
   },
   "outputs": [
    {
     "name": "stderr",
     "output_type": "stream",
     "text": [
      "/opt/conda/lib/python3.7/site-packages/ipykernel_launcher.py:1: VisibleDeprecationWarning: Creating an ndarray from ragged nested sequences (which is a list-or-tuple of lists-or-tuples-or ndarrays with different lengths or shapes) is deprecated. If you meant to do this, you must specify 'dtype=object' when creating the ndarray.\n",
      "  \"\"\"Entry point for launching an IPython kernel.\n"
     ]
    }
   ],
   "source": [
    "X=np.array(X)\n",
    "y=np.array(y)"
   ]
  },
  {
   "cell_type": "code",
   "execution_count": 8,
   "id": "ecd7bd77",
   "metadata": {
    "execution": {
     "iopub.execute_input": "2023-03-05T11:51:05.036147Z",
     "iopub.status.busy": "2023-03-05T11:51:05.035733Z",
     "iopub.status.idle": "2023-03-05T11:51:25.572821Z",
     "shell.execute_reply": "2023-03-05T11:51:25.564085Z"
    },
    "papermill": {
     "duration": 20.55346,
     "end_time": "2023-03-05T11:51:25.584257",
     "exception": false,
     "start_time": "2023-03-05T11:51:05.030797",
     "status": "completed"
    },
    "tags": []
   },
   "outputs": [],
   "source": [
    "from numpy import save\n",
    "save('X.npy', X)\n",
    "save('y.npy', y)"
   ]
  },
  {
   "cell_type": "code",
   "execution_count": 9,
   "id": "c9dc8b35",
   "metadata": {
    "execution": {
     "iopub.execute_input": "2023-03-05T11:51:25.727841Z",
     "iopub.status.busy": "2023-03-05T11:51:25.725436Z",
     "iopub.status.idle": "2023-03-05T11:51:25.765725Z",
     "shell.execute_reply": "2023-03-05T11:51:25.763353Z"
    },
    "papermill": {
     "duration": 0.065436,
     "end_time": "2023-03-05T11:51:25.774022",
     "exception": false,
     "start_time": "2023-03-05T11:51:25.708586",
     "status": "completed"
    },
    "tags": []
   },
   "outputs": [
    {
     "data": {
      "text/plain": [
       "array([array([[[ 27,  32,  47],\n",
       "               [ 26,  31,  46],\n",
       "               [ 23,  28,  43],\n",
       "               ...,\n",
       "               [118, 132, 148],\n",
       "               [114, 129, 146],\n",
       "               [112, 127, 143]],\n",
       "\n",
       "              [[ 28,  33,  48],\n",
       "               [ 27,  32,  47],\n",
       "               [ 25,  30,  45],\n",
       "               ...,\n",
       "               [118, 132, 148],\n",
       "               [116, 130, 146],\n",
       "               [112, 127, 143]],\n",
       "\n",
       "              [[ 29,  34,  49],\n",
       "               [ 28,  33,  48],\n",
       "               [ 27,  32,  47],\n",
       "               ...,\n",
       "               [119, 132, 148],\n",
       "               [118, 130, 146],\n",
       "               [114, 128, 144]],\n",
       "\n",
       "              ...,\n",
       "\n",
       "              [[ 51,  74,  95],\n",
       "               [ 43,  66,  89],\n",
       "               [ 37,  63,  85],\n",
       "               ...,\n",
       "               [114, 133, 146],\n",
       "               [114, 133, 146],\n",
       "               [114, 133, 146]],\n",
       "\n",
       "              [[ 54,  77,  99],\n",
       "               [ 45,  69,  91],\n",
       "               [ 40,  66,  87],\n",
       "               ...,\n",
       "               [113, 132, 145],\n",
       "               [113, 132, 145],\n",
       "               [113, 132, 145]],\n",
       "\n",
       "              [[ 55,  77,  99],\n",
       "               [ 47,  71,  93],\n",
       "               [ 43,  69,  90],\n",
       "               ...,\n",
       "               [112, 131, 144],\n",
       "               [112, 131, 144],\n",
       "               [112, 131, 144]]], dtype=uint8),\n",
       "       array([[[ 79, 107, 118],\n",
       "               [ 79, 107, 118],\n",
       "               [ 79, 107, 118],\n",
       "               ...,\n",
       "               [ 59,  85,  97],\n",
       "               [ 59,  85,  97],\n",
       "               [ 59,  85,  97]],\n",
       "\n",
       "              [[ 79, 107, 118],\n",
       "               [ 79, 107, 118],\n",
       "               [ 79, 107, 118],\n",
       "               ...,\n",
       "               [ 58,  84,  96],\n",
       "               [ 58,  84,  96],\n",
       "               [ 58,  84,  96]],\n",
       "\n",
       "              [[ 79, 107, 118],\n",
       "               [ 79, 107, 118],\n",
       "               [ 79, 107, 118],\n",
       "               ...,\n",
       "               [ 57,  83,  95],\n",
       "               [ 57,  83,  95],\n",
       "               [ 57,  83,  95]],\n",
       "\n",
       "              ...,\n",
       "\n",
       "              [[ 47,  71,  82],\n",
       "               [ 49,  73,  85],\n",
       "               [ 51,  75,  85],\n",
       "               ...,\n",
       "               [ 69,  96, 110],\n",
       "               [ 69,  96, 110],\n",
       "               [ 69,  96, 110]],\n",
       "\n",
       "              [[ 45,  70,  80],\n",
       "               [ 47,  72,  82],\n",
       "               [ 50,  72,  83],\n",
       "               ...,\n",
       "               [ 69,  96, 110],\n",
       "               [ 69,  96, 110],\n",
       "               [ 69,  96, 110]],\n",
       "\n",
       "              [[ 44,  69,  79],\n",
       "               [ 46,  71,  81],\n",
       "               [ 49,  71,  82],\n",
       "               ...,\n",
       "               [ 68,  95, 109],\n",
       "               [ 68,  95, 109],\n",
       "               [ 68,  95, 109]]], dtype=uint8),\n",
       "       array([[[150, 189, 203],\n",
       "               [150, 189, 203],\n",
       "               [150, 189, 203],\n",
       "               ...,\n",
       "               [  0,   4,  13],\n",
       "               [  0,   4,  13],\n",
       "               [  0,   4,  13]],\n",
       "\n",
       "              [[154, 193, 207],\n",
       "               [154, 193, 207],\n",
       "               [154, 193, 207],\n",
       "               ...,\n",
       "               [  0,   5,  14],\n",
       "               [  1,   5,  14],\n",
       "               [  1,   5,  14]],\n",
       "\n",
       "              [[161, 201, 214],\n",
       "               [161, 201, 214],\n",
       "               [161, 201, 214],\n",
       "               ...,\n",
       "               [  1,   7,  16],\n",
       "               [  1,   8,  17],\n",
       "               [  2,   8,  17]],\n",
       "\n",
       "              ...,\n",
       "\n",
       "              [[116, 149, 182],\n",
       "               [117, 150, 183],\n",
       "               [121, 154, 187],\n",
       "               ...,\n",
       "               [105, 140, 160],\n",
       "               [107, 142, 162],\n",
       "               [107, 142, 162]],\n",
       "\n",
       "              [[116, 149, 182],\n",
       "               [116, 150, 183],\n",
       "               [121, 154, 187],\n",
       "               ...,\n",
       "               [105, 140, 160],\n",
       "               [107, 142, 162],\n",
       "               [108, 143, 163]],\n",
       "\n",
       "              [[116, 149, 182],\n",
       "               [117, 150, 183],\n",
       "               [121, 154, 187],\n",
       "               ...,\n",
       "               [105, 140, 160],\n",
       "               [107, 143, 162],\n",
       "               [108, 143, 163]]], dtype=uint8), ...,\n",
       "       array([[[146, 145, 131],\n",
       "               [146, 145, 131],\n",
       "               [146, 145, 131],\n",
       "               ...,\n",
       "               [115, 113, 103],\n",
       "               [114, 112, 102],\n",
       "               [114, 112, 102]],\n",
       "\n",
       "              [[146, 145, 131],\n",
       "               [146, 145, 131],\n",
       "               [146, 145, 131],\n",
       "               ...,\n",
       "               [115, 113, 103],\n",
       "               [114, 112, 102],\n",
       "               [115, 113, 103]],\n",
       "\n",
       "              [[146, 145, 131],\n",
       "               [146, 145, 131],\n",
       "               [146, 145, 131],\n",
       "               ...,\n",
       "               [115, 113, 103],\n",
       "               [115, 113, 103],\n",
       "               [115, 113, 103]],\n",
       "\n",
       "              ...,\n",
       "\n",
       "              [[116, 117, 109],\n",
       "               [116, 117, 109],\n",
       "               [108, 108, 100],\n",
       "               ...,\n",
       "               [101, 134, 168],\n",
       "               [103, 134, 167],\n",
       "               [103, 135, 167]],\n",
       "\n",
       "              [[118, 117, 107],\n",
       "               [119, 119, 109],\n",
       "               [106, 107,  97],\n",
       "               ...,\n",
       "               [ 98, 133, 172],\n",
       "               [100, 135, 172],\n",
       "               [101, 137, 174]],\n",
       "\n",
       "              [[118, 117, 107],\n",
       "               [120, 119, 109],\n",
       "               [106, 107,  97],\n",
       "               ...,\n",
       "               [ 98, 133, 173],\n",
       "               [ 99, 135, 173],\n",
       "               [101, 137, 175]]], dtype=uint8),\n",
       "       array([[[102, 108, 107],\n",
       "               [104, 109, 109],\n",
       "               [106, 112, 111],\n",
       "               ...,\n",
       "               [152, 153, 153],\n",
       "               [152, 154, 154],\n",
       "               [153, 155, 155]],\n",
       "\n",
       "              [[109, 115, 114],\n",
       "               [110, 116, 115],\n",
       "               [112, 118, 117],\n",
       "               ...,\n",
       "               [151, 153, 153],\n",
       "               [152, 154, 154],\n",
       "               [152, 154, 154]],\n",
       "\n",
       "              [[116, 122, 121],\n",
       "               [116, 122, 121],\n",
       "               [118, 124, 123],\n",
       "               ...,\n",
       "               [150, 152, 152],\n",
       "               [151, 153, 153],\n",
       "               [152, 154, 154]],\n",
       "\n",
       "              ...,\n",
       "\n",
       "              [[ 63,  70,  75],\n",
       "               [ 70,  77,  81],\n",
       "               [ 85,  92,  96],\n",
       "               ...,\n",
       "               [238, 241, 240],\n",
       "               [237, 239, 239],\n",
       "               [236, 239, 239]],\n",
       "\n",
       "              [[ 81,  87,  92],\n",
       "               [ 89,  95, 100],\n",
       "               [107, 113, 118],\n",
       "               ...,\n",
       "               [238, 240, 240],\n",
       "               [237, 239, 239],\n",
       "               [237, 239, 239]],\n",
       "\n",
       "              [[ 89,  94, 100],\n",
       "               [ 98, 104, 109],\n",
       "               [118, 125, 130],\n",
       "               ...,\n",
       "               [238, 240, 240],\n",
       "               [237, 239, 239],\n",
       "               [237, 239, 239]]], dtype=uint8),\n",
       "       array([[[ 23,  34,  48],\n",
       "               [ 21,  32,  46],\n",
       "               [ 20,  31,  45],\n",
       "               ...,\n",
       "               [ 13,  29,  23],\n",
       "               [ 18,  29,  23],\n",
       "               [ 19,  29,  23]],\n",
       "\n",
       "              [[ 25,  36,  50],\n",
       "               [ 24,  35,  49],\n",
       "               [ 24,  35,  49],\n",
       "               ...,\n",
       "               [  8,  24,  17],\n",
       "               [ 13,  24,  18],\n",
       "               [ 14,  24,  18]],\n",
       "\n",
       "              [[ 28,  39,  53],\n",
       "               [ 28,  39,  54],\n",
       "               [ 29,  40,  54],\n",
       "               ...,\n",
       "               [  6,  20,  13],\n",
       "               [  9,  20,  14],\n",
       "               [  9,  20,  14]],\n",
       "\n",
       "              ...,\n",
       "\n",
       "              [[ 43,  68,  58],\n",
       "               [ 33,  58,  49],\n",
       "               [ 18,  40,  35],\n",
       "               ...,\n",
       "               [ 78,  88,  95],\n",
       "               [ 83,  93, 100],\n",
       "               [ 88,  98, 105]],\n",
       "\n",
       "              [[ 45,  70,  60],\n",
       "               [ 38,  63,  53],\n",
       "               [ 23,  45,  40],\n",
       "               ...,\n",
       "               [ 80,  90,  97],\n",
       "               [ 88,  98, 105],\n",
       "               [ 92, 102, 109]],\n",
       "\n",
       "              [[ 48,  73,  63],\n",
       "               [ 41,  66,  56],\n",
       "               [ 26,  48,  42],\n",
       "               ...,\n",
       "               [ 90, 100, 107],\n",
       "               [100, 111, 118],\n",
       "               [104, 114, 121]]], dtype=uint8)], dtype=object)"
      ]
     },
     "execution_count": 9,
     "metadata": {},
     "output_type": "execute_result"
    }
   ],
   "source": [
    "X"
   ]
  },
  {
   "cell_type": "code",
   "execution_count": null,
   "id": "96ff5b7b",
   "metadata": {
    "papermill": {
     "duration": 0.260499,
     "end_time": "2023-03-05T11:51:26.234865",
     "exception": false,
     "start_time": "2023-03-05T11:51:25.974366",
     "status": "completed"
    },
    "tags": []
   },
   "outputs": [],
   "source": []
  }
 ],
 "metadata": {
  "kernelspec": {
   "display_name": "Python 3",
   "language": "python",
   "name": "python3"
  },
  "language_info": {
   "codemirror_mode": {
    "name": "ipython",
    "version": 3
   },
   "file_extension": ".py",
   "mimetype": "text/x-python",
   "name": "python",
   "nbconvert_exporter": "python",
   "pygments_lexer": "ipython3",
   "version": "3.7.12"
  },
  "papermill": {
   "default_parameters": {},
   "duration": 137.655969,
   "end_time": "2023-03-05T11:51:28.236675",
   "environment_variables": {},
   "exception": null,
   "input_path": "__notebook__.ipynb",
   "output_path": "__notebook__.ipynb",
   "parameters": {},
   "start_time": "2023-03-05T11:49:10.580706",
   "version": "2.4.0"
  }
 },
 "nbformat": 4,
 "nbformat_minor": 5
}
