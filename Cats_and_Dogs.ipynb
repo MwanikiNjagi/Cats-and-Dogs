{
 "cells": [
  {
   "cell_type": "code",
   "execution_count": 1,
   "id": "e2f22db3",
   "metadata": {
    "execution": {
     "iopub.execute_input": "2023-03-04T15:42:32.647201Z",
     "iopub.status.busy": "2023-03-04T15:42:32.646721Z",
     "iopub.status.idle": "2023-03-04T15:42:32.846912Z",
     "shell.execute_reply": "2023-03-04T15:42:32.845475Z"
    },
    "papermill": {
     "duration": 0.209885,
     "end_time": "2023-03-04T15:42:32.850634",
     "exception": false,
     "start_time": "2023-03-04T15:42:32.640749",
     "status": "completed"
    },
    "tags": []
   },
   "outputs": [
    {
     "name": "stdout",
     "output_type": "stream",
     "text": [
      "['/kaggle/input/cat-and-dog/training_set/training_set/cats', '/kaggle/input/cat-and-dog/training_set/training_set/dogs']\n",
      "['/kaggle/input/cat-and-dog/test_set/test_set/cats', '/kaggle/input/cat-and-dog/test_set/test_set/dogs']\n"
     ]
    }
   ],
   "source": [
    "import cv2\n",
    "import os\n",
    "import matplotlib.pyplot as plt\n",
    "import pickle \n",
    "import numpy as np\n",
    "\n",
    "train_dir = r'/kaggle/input/cat-and-dog/training_set/training_set/'\n",
    "test_dir = r'/kaggle/input/cat-and-dog/test_set/test_set/'\n",
    "cate_cat = 'cats'\n",
    "cate_dog = 'dogs'\n",
    "\n",
    "def paths(dir):\n",
    "    cat_dir = os.path.join(dir, cate_cat)\n",
    "    dog_dir = os.path.join(dir, cate_dog)\n",
    "    folders = [cat_dir, dog_dir]\n",
    "    return folders\n",
    "\n",
    "#Storing directory information\n",
    "training_folders = paths(train_dir)\n",
    "testing_folders = paths(test_dir)\n",
    "\n",
    "#testing said info\n",
    "print(training_folders)\n",
    "print(testing_folders)"
   ]
  },
  {
   "cell_type": "code",
   "execution_count": 2,
   "id": "c947326b",
   "metadata": {
    "execution": {
     "iopub.execute_input": "2023-03-04T15:42:32.859310Z",
     "iopub.status.busy": "2023-03-04T15:42:32.858800Z",
     "iopub.status.idle": "2023-03-04T15:42:32.868632Z",
     "shell.execute_reply": "2023-03-04T15:42:32.867210Z"
    },
    "papermill": {
     "duration": 0.017315,
     "end_time": "2023-03-04T15:42:32.871367",
     "exception": false,
     "start_time": "2023-03-04T15:42:32.854052",
     "status": "completed"
    },
    "tags": []
   },
   "outputs": [],
   "source": [
    "#empty datalist to store image arrays and labels\n",
    "data = []\n",
    "#Desired image size\n",
    "img_size = 448\n",
    "\n",
    "def data_array(folders):\n",
    "    for folder in folders:\n",
    "        folder = folder\n",
    "        for img in os.listdir(folder):\n",
    "            #Taking path of images\n",
    "            img_path = os.path.join(folder, img)\n",
    "            #storing our images in an array and resizing appropriate images\n",
    "            try:\n",
    "                img_arr = cv2.imread(img_path)\n",
    "                img_arr = cv2.resize(img_arr, (img_size, img_size))\n",
    "            except Exception as e:\n",
    "                print(str(e))\n",
    "            #extracting image name\n",
    "            img_label = os.path.basename(os.path.normpath(img_path))\n",
    "            #splitting name of file and picking either \"cat\" or \"dog\"\n",
    "            img_label = img_label.split(\".\")[0] \n",
    "            #indexing the labels\n",
    "            if img_label == 'cat':\n",
    "                img_label = 0\n",
    "            else:\n",
    "                img_label = 1\n",
    "            #appending data to empty dataframe\n",
    "            data.append([img_arr, img_label])\n",
    "    return data"
   ]
  },
  {
   "cell_type": "code",
   "execution_count": 3,
   "id": "4226c727",
   "metadata": {
    "execution": {
     "iopub.execute_input": "2023-03-04T15:42:32.880295Z",
     "iopub.status.busy": "2023-03-04T15:42:32.879003Z",
     "iopub.status.idle": "2023-03-04T15:43:56.257893Z",
     "shell.execute_reply": "2023-03-04T15:43:56.255908Z"
    },
    "papermill": {
     "duration": 83.386501,
     "end_time": "2023-03-04T15:43:56.261025",
     "exception": false,
     "start_time": "2023-03-04T15:42:32.874524",
     "status": "completed"
    },
    "tags": []
   },
   "outputs": [
    {
     "name": "stdout",
     "output_type": "stream",
     "text": [
      "OpenCV(4.5.4) /tmp/pip-req-build-jpmv6t9_/opencv/modules/imgproc/src/resize.cpp:4051: error: (-215:Assertion failed) !ssize.empty() in function 'resize'\n",
      "\n",
      "OpenCV(4.5.4) /tmp/pip-req-build-jpmv6t9_/opencv/modules/imgproc/src/resize.cpp:4051: error: (-215:Assertion failed) !ssize.empty() in function 'resize'\n",
      "\n",
      "OpenCV(4.5.4) /tmp/pip-req-build-jpmv6t9_/opencv/modules/imgproc/src/resize.cpp:4051: error: (-215:Assertion failed) !ssize.empty() in function 'resize'\n",
      "\n",
      "OpenCV(4.5.4) /tmp/pip-req-build-jpmv6t9_/opencv/modules/imgproc/src/resize.cpp:4051: error: (-215:Assertion failed) !ssize.empty() in function 'resize'\n",
      "\n"
     ]
    }
   ],
   "source": [
    "training_list = data_array(training_folders)\n",
    "testing_list = data_array(testing_folders)"
   ]
  },
  {
   "cell_type": "code",
   "execution_count": 4,
   "id": "31e6ff29",
   "metadata": {
    "execution": {
     "iopub.execute_input": "2023-03-04T15:43:56.270036Z",
     "iopub.status.busy": "2023-03-04T15:43:56.269527Z",
     "iopub.status.idle": "2023-03-04T15:43:56.297003Z",
     "shell.execute_reply": "2023-03-04T15:43:56.295582Z"
    },
    "papermill": {
     "duration": 0.035586,
     "end_time": "2023-03-04T15:43:56.300128",
     "exception": false,
     "start_time": "2023-03-04T15:43:56.264542",
     "status": "completed"
    },
    "tags": []
   },
   "outputs": [],
   "source": [
    "import random\n",
    "#data shuffling\n",
    "random.shuffle(training_list)\n",
    "random.shuffle(testing_list)\n",
    "\n",
    "#list concataneting\n",
    "data = training_list + testing_list"
   ]
  },
  {
   "cell_type": "code",
   "execution_count": 5,
   "id": "026eaf32",
   "metadata": {
    "execution": {
     "iopub.execute_input": "2023-03-04T15:43:56.308905Z",
     "iopub.status.busy": "2023-03-04T15:43:56.308461Z",
     "iopub.status.idle": "2023-03-04T15:43:56.329042Z",
     "shell.execute_reply": "2023-03-04T15:43:56.327628Z"
    },
    "papermill": {
     "duration": 0.028355,
     "end_time": "2023-03-04T15:43:56.331856",
     "exception": false,
     "start_time": "2023-03-04T15:43:56.303501",
     "status": "completed"
    },
    "tags": []
   },
   "outputs": [],
   "source": [
    "#creating empty x and y for iteration\n",
    "x = []\n",
    "y = []\n",
    "\n",
    "for features, labels in data:\n",
    "    x.append(features)\n",
    "    y.append(labels)"
   ]
  },
  {
   "cell_type": "code",
   "execution_count": 6,
   "id": "1722a980",
   "metadata": {
    "execution": {
     "iopub.execute_input": "2023-03-04T15:43:56.340495Z",
     "iopub.status.busy": "2023-03-04T15:43:56.340018Z",
     "iopub.status.idle": "2023-03-04T15:43:56.353689Z",
     "shell.execute_reply": "2023-03-04T15:43:56.352346Z"
    },
    "papermill": {
     "duration": 0.021189,
     "end_time": "2023-03-04T15:43:56.356482",
     "exception": false,
     "start_time": "2023-03-04T15:43:56.335293",
     "status": "completed"
    },
    "tags": []
   },
   "outputs": [],
   "source": [
    "X = np.array(x, dtype=object)\n",
    "y = np.array(y, dtype=object)"
   ]
  },
  {
   "cell_type": "code",
   "execution_count": 7,
   "id": "b8c7ee62",
   "metadata": {
    "execution": {
     "iopub.execute_input": "2023-03-04T15:43:56.364807Z",
     "iopub.status.busy": "2023-03-04T15:43:56.364383Z",
     "iopub.status.idle": "2023-03-04T15:44:18.208053Z",
     "shell.execute_reply": "2023-03-04T15:44:18.206937Z"
    },
    "papermill": {
     "duration": 21.854002,
     "end_time": "2023-03-04T15:44:18.213804",
     "exception": false,
     "start_time": "2023-03-04T15:43:56.359802",
     "status": "completed"
    },
    "tags": []
   },
   "outputs": [],
   "source": [
    "pickle.dump(X, open('/kaggle/working/X.pkl', 'wb'))\n",
    "pickle.dump(y, open('/kaggle/working/y.pkl', 'wb'))"
   ]
  }
 ],
 "metadata": {
  "kernelspec": {
   "display_name": "Python 3",
   "language": "python",
   "name": "python3"
  },
  "language_info": {
   "codemirror_mode": {
    "name": "ipython",
    "version": 3
   },
   "file_extension": ".py",
   "mimetype": "text/x-python",
   "name": "python",
   "nbconvert_exporter": "python",
   "pygments_lexer": "ipython3",
   "version": "3.7.12"
  },
  "papermill": {
   "default_parameters": {},
   "duration": 117.763621,
   "end_time": "2023-03-04T15:44:19.606788",
   "environment_variables": {},
   "exception": null,
   "input_path": "__notebook__.ipynb",
   "output_path": "__notebook__.ipynb",
   "parameters": {},
   "start_time": "2023-03-04T15:42:21.843167",
   "version": "2.4.0"
  }
 },
 "nbformat": 4,
 "nbformat_minor": 5
}
